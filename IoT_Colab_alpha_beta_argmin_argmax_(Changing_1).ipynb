{
  "nbformat": 4,
  "nbformat_minor": 0,
  "metadata": {
    "accelerator": "TPU",
    "colab": {
      "name": "IoT Colab - alpha beta - argmin argmax (Changing 1)",
      "provenance": [],
      "collapsed_sections": [],
      "include_colab_link": true
    },
    "kernelspec": {
      "display_name": "Python 3",
      "name": "python3"
    },
    "language_info": {
      "name": "python"
    }
  },
  "cells": [
    {
      "cell_type": "markdown",
      "metadata": {
        "id": "view-in-github",
        "colab_type": "text"
      },
      "source": [
        "<a href=\"https://colab.research.google.com/github/mahdavipanah/IoT-Colab/blob/main/IoT_Colab_alpha_beta_argmin_argmax_(Changing_1).ipynb\" target=\"_parent\"><img src=\"https://colab.research.google.com/assets/colab-badge.svg\" alt=\"Open In Colab\"/></a>"
      ]
    },
    {
      "cell_type": "markdown",
      "metadata": {
        "id": "V09S0a92S2Zj"
      },
      "source": [
        "Link to the paper https://www.sciencedirect.com/science/article/pii/S0959652621016267\n",
        "\n",
        "Link to the slides: https://docs.google.com/presentation/d/1dhO9MWNpegfj3nEEvdvgV3j-j4GoPN5AMzw2mZ3EoIc/edit#slide=id.gf31ab12f31_0_283\n",
        "\n",
        "Link to the paper's file: https://drive.google.com/file/d/1CokHcR_pmj7ArbuVO3c5RwixoAO8j-q0/view"
      ]
    },
    {
      "cell_type": "code",
      "metadata": {
        "colab": {
          "base_uri": "https://localhost:8080/"
        },
        "id": "lu4lx3-qlRb0",
        "outputId": "307d3e8e-689c-421e-9215-2e37fcd03075"
      },
      "source": [
        "pip install dataframe-image"
      ],
      "execution_count": 1,
      "outputs": [
        {
          "output_type": "stream",
          "name": "stdout",
          "text": [
            "Requirement already satisfied: dataframe-image in /usr/local/lib/python3.7/dist-packages (0.1.1)\n",
            "Requirement already satisfied: nbconvert>=5 in /usr/local/lib/python3.7/dist-packages (from dataframe-image) (5.6.1)\n",
            "Requirement already satisfied: matplotlib>=3.1 in /usr/local/lib/python3.7/dist-packages (from dataframe-image) (3.2.2)\n",
            "Requirement already satisfied: aiohttp in /usr/local/lib/python3.7/dist-packages (from dataframe-image) (3.8.1)\n",
            "Requirement already satisfied: beautifulsoup4 in /usr/local/lib/python3.7/dist-packages (from dataframe-image) (4.6.3)\n",
            "Requirement already satisfied: pandas>=0.24 in /usr/local/lib/python3.7/dist-packages (from dataframe-image) (1.1.5)\n",
            "Requirement already satisfied: requests in /usr/local/lib/python3.7/dist-packages (from dataframe-image) (2.23.0)\n",
            "Requirement already satisfied: cycler>=0.10 in /usr/local/lib/python3.7/dist-packages (from matplotlib>=3.1->dataframe-image) (0.11.0)\n",
            "Requirement already satisfied: numpy>=1.11 in /usr/local/lib/python3.7/dist-packages (from matplotlib>=3.1->dataframe-image) (1.19.5)\n",
            "Requirement already satisfied: python-dateutil>=2.1 in /usr/local/lib/python3.7/dist-packages (from matplotlib>=3.1->dataframe-image) (2.8.2)\n",
            "Requirement already satisfied: pyparsing!=2.0.4,!=2.1.2,!=2.1.6,>=2.0.1 in /usr/local/lib/python3.7/dist-packages (from matplotlib>=3.1->dataframe-image) (3.0.6)\n",
            "Requirement already satisfied: kiwisolver>=1.0.1 in /usr/local/lib/python3.7/dist-packages (from matplotlib>=3.1->dataframe-image) (1.3.2)\n",
            "Requirement already satisfied: bleach in /usr/local/lib/python3.7/dist-packages (from nbconvert>=5->dataframe-image) (4.1.0)\n",
            "Requirement already satisfied: entrypoints>=0.2.2 in /usr/local/lib/python3.7/dist-packages (from nbconvert>=5->dataframe-image) (0.3)\n",
            "Requirement already satisfied: pygments in /usr/local/lib/python3.7/dist-packages (from nbconvert>=5->dataframe-image) (2.6.1)\n",
            "Requirement already satisfied: jupyter-core in /usr/local/lib/python3.7/dist-packages (from nbconvert>=5->dataframe-image) (4.9.1)\n",
            "Requirement already satisfied: testpath in /usr/local/lib/python3.7/dist-packages (from nbconvert>=5->dataframe-image) (0.5.0)\n",
            "Requirement already satisfied: traitlets>=4.2 in /usr/local/lib/python3.7/dist-packages (from nbconvert>=5->dataframe-image) (5.1.1)\n",
            "Requirement already satisfied: mistune<2,>=0.8.1 in /usr/local/lib/python3.7/dist-packages (from nbconvert>=5->dataframe-image) (0.8.4)\n",
            "Requirement already satisfied: jinja2>=2.4 in /usr/local/lib/python3.7/dist-packages (from nbconvert>=5->dataframe-image) (2.11.3)\n",
            "Requirement already satisfied: pandocfilters>=1.4.1 in /usr/local/lib/python3.7/dist-packages (from nbconvert>=5->dataframe-image) (1.5.0)\n",
            "Requirement already satisfied: nbformat>=4.4 in /usr/local/lib/python3.7/dist-packages (from nbconvert>=5->dataframe-image) (5.1.3)\n",
            "Requirement already satisfied: defusedxml in /usr/local/lib/python3.7/dist-packages (from nbconvert>=5->dataframe-image) (0.7.1)\n",
            "Requirement already satisfied: MarkupSafe>=0.23 in /usr/local/lib/python3.7/dist-packages (from jinja2>=2.4->nbconvert>=5->dataframe-image) (2.0.1)\n",
            "Requirement already satisfied: jsonschema!=2.5.0,>=2.4 in /usr/local/lib/python3.7/dist-packages (from nbformat>=4.4->nbconvert>=5->dataframe-image) (2.6.0)\n",
            "Requirement already satisfied: ipython-genutils in /usr/local/lib/python3.7/dist-packages (from nbformat>=4.4->nbconvert>=5->dataframe-image) (0.2.0)\n",
            "Requirement already satisfied: pytz>=2017.2 in /usr/local/lib/python3.7/dist-packages (from pandas>=0.24->dataframe-image) (2018.9)\n",
            "Requirement already satisfied: six>=1.5 in /usr/local/lib/python3.7/dist-packages (from python-dateutil>=2.1->matplotlib>=3.1->dataframe-image) (1.15.0)\n",
            "Requirement already satisfied: attrs>=17.3.0 in /usr/local/lib/python3.7/dist-packages (from aiohttp->dataframe-image) (21.2.0)\n",
            "Requirement already satisfied: yarl<2.0,>=1.0 in /usr/local/lib/python3.7/dist-packages (from aiohttp->dataframe-image) (1.7.2)\n",
            "Requirement already satisfied: asynctest==0.13.0 in /usr/local/lib/python3.7/dist-packages (from aiohttp->dataframe-image) (0.13.0)\n",
            "Requirement already satisfied: typing-extensions>=3.7.4 in /usr/local/lib/python3.7/dist-packages (from aiohttp->dataframe-image) (3.10.0.2)\n",
            "Requirement already satisfied: aiosignal>=1.1.2 in /usr/local/lib/python3.7/dist-packages (from aiohttp->dataframe-image) (1.2.0)\n",
            "Requirement already satisfied: frozenlist>=1.1.1 in /usr/local/lib/python3.7/dist-packages (from aiohttp->dataframe-image) (1.2.0)\n",
            "Requirement already satisfied: multidict<7.0,>=4.5 in /usr/local/lib/python3.7/dist-packages (from aiohttp->dataframe-image) (5.2.0)\n",
            "Requirement already satisfied: async-timeout<5.0,>=4.0.0a3 in /usr/local/lib/python3.7/dist-packages (from aiohttp->dataframe-image) (4.0.1)\n",
            "Requirement already satisfied: charset-normalizer<3.0,>=2.0 in /usr/local/lib/python3.7/dist-packages (from aiohttp->dataframe-image) (2.0.7)\n",
            "Requirement already satisfied: idna>=2.0 in /usr/local/lib/python3.7/dist-packages (from yarl<2.0,>=1.0->aiohttp->dataframe-image) (2.10)\n",
            "Requirement already satisfied: packaging in /usr/local/lib/python3.7/dist-packages (from bleach->nbconvert>=5->dataframe-image) (21.3)\n",
            "Requirement already satisfied: webencodings in /usr/local/lib/python3.7/dist-packages (from bleach->nbconvert>=5->dataframe-image) (0.5.1)\n",
            "Requirement already satisfied: chardet<4,>=3.0.2 in /usr/local/lib/python3.7/dist-packages (from requests->dataframe-image) (3.0.4)\n",
            "Requirement already satisfied: urllib3!=1.25.0,!=1.25.1,<1.26,>=1.21.1 in /usr/local/lib/python3.7/dist-packages (from requests->dataframe-image) (1.24.3)\n",
            "Requirement already satisfied: certifi>=2017.4.17 in /usr/local/lib/python3.7/dist-packages (from requests->dataframe-image) (2021.10.8)\n"
          ]
        }
      ]
    },
    {
      "cell_type": "code",
      "metadata": {
        "colab": {
          "base_uri": "https://localhost:8080/",
          "height": 52
        },
        "id": "jlr0K_ua_FuO",
        "outputId": "22f91bc8-1002-404a-d024-6f8334c633fd"
      },
      "source": [
        "import numpy as np\n",
        "from matplotlib import pyplot as plt\n",
        "import matplotlib.image as mpimg\n",
        "import pandas as pd\n",
        "import dataframe_image as dfi\n",
        "import imageio\n",
        "from pathlib import Path\n",
        "import os\n",
        "\n",
        "\n",
        "%load_ext google.colab.data_table\n",
        "\n",
        "from google.colab import data_table\n",
        "data_table._DEFAULT_FORMATTERS[float] = lambda x: f\"{x:.4f}\"\n",
        "\n",
        "plt.figure(figsize=(20, 5))"
      ],
      "execution_count": 2,
      "outputs": [
        {
          "output_type": "execute_result",
          "data": {
            "text/plain": [
              "<Figure size 1440x360 with 0 Axes>"
            ]
          },
          "metadata": {},
          "execution_count": 2
        },
        {
          "output_type": "display_data",
          "data": {
            "text/plain": [
              "<Figure size 1440x360 with 0 Axes>"
            ]
          },
          "metadata": {}
        }
      ]
    },
    {
      "cell_type": "code",
      "metadata": {
        "cellView": "form",
        "id": "kifuooQyq1C4"
      },
      "source": [
        "#@title #Parameters\n",
        "\n",
        "#@markdown Prior knowledge for the probability of the event occurrence:\n",
        "PE = 0.7#@param {type:\"number\"}\n",
        "\n",
        "#@markdown Selection ratio in the list of nodes:\n",
        "S = 1000#@param {type:\"integer\"}\n",
        "K = 10#@param {type:\"integer\"}\n",
        "\n",
        "#@markdown Number of malicious nodes:\n",
        "MALICIOUS_NODES_COUNT = 300#@param {type:\"integer\"}\n",
        "\n",
        "#@markdown Number of revoked nodes:\n",
        "REVOKED_NODES_COUNT = 0#@param {type:\"integer\"}\n",
        "#@markdown Probability of a revoked node to report a malicious probability:\n",
        "P_REVOKE_MALICIOUS = 0.7#@param {type:\"number\"}\n",
        "\n",
        "#@markdown Number of repaired nodes:\n",
        "REPAIRED_NODES_COUNT = 0#@param {type:\"integer\"}\n",
        "\n",
        "if (REPAIRED_NODES_COUNT > MALICIOUS_NODES_COUNT):\n",
        "  raise Exception('Number of rapaired nodes can not be more than malicious count')\n",
        "\n",
        "#@markdown The iteration to start the repairing node process:\n",
        "REPAIR_ITERATION = 40#@param {type:\"integer\"}\n",
        "\n",
        "#@markdown Trusted nodes probability range (inclusive):\n",
        "P_START = 0.5#@param {type:\"number\"}\n",
        "P_END = 0.99#@param {type:\"number\"}\n",
        "\n",
        "#@markdown Malicious nodes probability range (inclusive):\n",
        "MALICIOUS_P_START = 0.01#@param {type:\"number\"}\n",
        "MALICIOUS_P_END = 0.49#@param {type:\"number\"}\n",
        "\n",
        "#@markdown Punishment and reward for trust of nodes based on Nash EQ:\n",
        "TRUST_PUNISH = 0.05#@param {type:\"number\"}\n",
        "TRUST_REWARD = 0.03#@param {type:\"number\"}\n",
        "\n",
        "#@markdown Maximum and minimum trust:\n",
        "TRUST_MAX = 0.9#@param {type:\"number\"}\n",
        "TRUST_MIN = 0.1#@param {type:\"number\"}\n",
        "\n",
        "#@markdown Default Trust:\n",
        "TRUST_DEFAULT = 0.5#@param {type:\"number\"}\n",
        "\n",
        "#@markdown Number of iterations:\n",
        "ITERATIONS_COUNT = 99#@param {type:\"integer\"}\n",
        "\n",
        "#@markdown Indicates weather the code must generate plot image files or not:\n",
        "GENERATE_PLOT_PNG = False#@param {type:\"boolean\"}\n",
        "\n",
        "#@markdown Folder for saving plog pngs (old png files will be removed):\n",
        "PLOT_PNG_FOLDER = \"/content/drive/MyDrive/n-t-plot/pngs\"#@param {type:\"string\"}\n",
        "\n",
        "#@markdown Plot's variable:\n",
        "PLOT_VARIABLE = \"trust\" #@param [\"trust\"]\n",
        "\n",
        "#@markdown Trust upper and lower bound for plots:\n",
        "UPPER_BOUND = 0.75#@param {type:\"number\"}\n",
        "LOWER_BOUND = 0.3#@param {type:\"number\"}\n",
        "\n",
        "#@markdown Default duration for sensors:\n",
        "DURATION_SENSOR_DEFAULT = 0#@param {type:\"integer\"}\n",
        "\n",
        "#@markdown Malicious nodes power range:\n",
        "POWER_MALICIOUS_START = 0.3#@param {type:\"number\"}\n",
        "POWER_MALICIOUS_END = 0.6#@param {type:\"number\"}\n",
        "\n",
        "#@markdown Non-malicious (trusted and revoked_ nodes power range:\n",
        "POWER_NON_MALICIOUS_START = 0.7#@param {type:\"number\"}\n",
        "POWER_NON_MALICIOUS_END = 0.98#@param {type:\"number\"}\n",
        "\n",
        "#@markdown Heartbeat functionality:\n",
        "HEARTBEAT_NODES_COUNT = 0#@param {type:\"integer\"}\n",
        "HEARTBEAT_START_ITERATION = 60#@param {type:\"integer\"}\n",
        "HEARTBEAT_END_ITERATION = 80#@param {type:\"integer\"}\n"
      ],
      "execution_count": 3,
      "outputs": []
    },
    {
      "cell_type": "code",
      "metadata": {
        "id": "zmrEPEeTcA5m"
      },
      "source": [
        "from google.colab import drive\n",
        "\n",
        "if GENERATE_PLOT_PNG:\n",
        "  drive.mount('/content/drive')"
      ],
      "execution_count": 4,
      "outputs": []
    },
    {
      "cell_type": "code",
      "metadata": {
        "colab": {
          "base_uri": "https://localhost:8080/",
          "height": 34
        },
        "id": "Fr1Ki5tOkmTZ",
        "outputId": "9d4caecf-b5c1-4abf-ec4b-8f76d321555a"
      },
      "source": [
        "plt.figure(figsize=(20, 5))\n",
        "\n",
        "rng = np.random.default_rng()\n",
        "\n",
        "def run(mal_count, repair_nodes_config, revoked_nodes_count, heartbeat_options=None, with_alpha_beta=True):\n",
        "  MALICIOUS_NODES_COUNT = mal_count\n",
        "  REVOKED_NODES_COUNT = revoked_nodes_count\n",
        "\n",
        "  if heartbeat_options == None:\n",
        "    heartbeat_options = {\n",
        "      'count': 0,\n",
        "      'start': 0,\n",
        "      'end': 0\n",
        "    }\n",
        "\n",
        "  # indices of all nodes\n",
        "  nodes_indices = np.arange(S)\n",
        "  # indices of malicious nodes\n",
        "  malicious_indices = rng.choice(\n",
        "      nodes_indices,\n",
        "      size=MALICIOUS_NODES_COUNT,\n",
        "      replace=False\n",
        "  )\n",
        "\n",
        "  # indices of repair nodes\n",
        "  all_repair_indices = np.array([])\n",
        "\n",
        "  # indices of revoked nodes\n",
        "  revoked_indices = rng.choice(\n",
        "      np.delete(nodes_indices, malicious_indices),\n",
        "      size=REVOKED_NODES_COUNT,\n",
        "      replace=False\n",
        "  )\n",
        "  # indices of trusted nodes\n",
        "  trusted_indices = np.delete(\n",
        "      nodes_indices,\n",
        "      np.concatenate([malicious_indices, revoked_indices])\n",
        "  )\n",
        "\n",
        "  # indices of heartbeat nodes\n",
        "  heartbeat_indices = rng.choice(\n",
        "      trusted_indices,\n",
        "      size=heartbeat_options['count'],\n",
        "      replace=False\n",
        "  )\n",
        "\n",
        "  # indices of non-modified trust nodes to show in plot\n",
        "  trusted_plot_indices = np.delete(\n",
        "      nodes_indices,\n",
        "      np.concatenate([malicious_indices, revoked_indices, heartbeat_indices])\n",
        "  )\n",
        "\n",
        "  total_averages = np.array([])\n",
        "\n",
        "  data_frame = pd.DataFrame()\n",
        "\n",
        "  if GENERATE_PLOT_PNG:\n",
        "    # remove old pngs plots\n",
        "    [f.unlink() for f in Path(PLOT_PNG_FOLDER).glob(\"*.png\") if f.is_file()]\n",
        "\n",
        "  plot_list = np.array([])\n",
        "\n",
        "  for iter in np.arange(ITERATIONS_COUNT):\n",
        "    # start the repair process\n",
        "    for conf in repair_nodes_config:\n",
        "      if iter == conf[1]:\n",
        "        # indices of repair nodes\n",
        "        repair_indices = rng.choice(\n",
        "            malicious_indices,\n",
        "            size=conf[0],\n",
        "            replace=False\n",
        "        )\n",
        "        malicious_indices = malicious_indices[\n",
        "          ~np.isin(malicious_indices, repair_indices)\n",
        "        ]\n",
        "        trusted_indices = np.concatenate([trusted_indices, repair_indices])\n",
        "        all_repair_indices = np.concatenate([all_repair_indices, repair_indices])\n",
        "\n",
        "    # trusted nodes probabilities\n",
        "    trusted_nodes = rng.uniform(\n",
        "      P_START,\n",
        "      P_END,\n",
        "      len(trusted_indices),\n",
        "    )\n",
        "    # malicious nodes probabilities\n",
        "    malicious_nodes = rng.uniform(\n",
        "      MALICIOUS_P_START,\n",
        "      MALICIOUS_P_END,\n",
        "      len(malicious_indices),\n",
        "    )\n",
        "    # revoked nodes probabilities\n",
        "    revoked_nodes = np.array([])\n",
        "    for i in np.arange(len(revoked_indices)):\n",
        "      p_start = p_end = None\n",
        "      if rng.random() <= P_REVOKE_MALICIOUS:\n",
        "        p_start, p_end = MALICIOUS_P_START, MALICIOUS_P_END\n",
        "      else:\n",
        "        p_start, p_end = P_START, P_END\n",
        "      \n",
        "      revoked_nodes = np.append(revoked_nodes,rng.uniform(p_start, p_end))\n",
        "    \n",
        "    # malicious nodes powers\n",
        "    malicious_powers = rng.uniform(\n",
        "      POWER_MALICIOUS_START,\n",
        "      POWER_MALICIOUS_END,\n",
        "      len(malicious_indices),\n",
        "    )\n",
        "\n",
        "    # non-malicious (trusted and revoked) nodes powers\n",
        "    non_malicious_powers = rng.uniform(\n",
        "      POWER_NON_MALICIOUS_START,\n",
        "      POWER_NON_MALICIOUS_END,\n",
        "      len(trusted_indices) + len(revoked_indices),\n",
        "    )\n",
        "\n",
        "    nodes = np.array([])\n",
        "    powers = np.array([])\n",
        "    for i in np.arange(S):\n",
        "      elem = None\n",
        "      power = None\n",
        "\n",
        "      if np.any(np.isin(malicious_indices, i)):\n",
        "        elem, malicious_nodes = malicious_nodes[0], np.delete(malicious_nodes, 0)\n",
        "\n",
        "        power, malicious_powers = malicious_powers[0], np.delete(malicious_powers, 0)\n",
        "      elif np.any(np.isin(revoked_indices, i)):\n",
        "        elem, revoked_nodes = revoked_nodes[0], np.delete(revoked_nodes, 0)\n",
        "\n",
        "        power, non_malicious_powers = non_malicious_powers[0], np.delete(non_malicious_powers, 0)\n",
        "      else:\n",
        "        elem, trusted_nodes = trusted_nodes[0], np.delete(trusted_nodes, 0)\n",
        "\n",
        "        power, non_malicious_powers = non_malicious_powers[0], np.delete(non_malicious_powers, 0)\n",
        "\n",
        "      nodes = np.append(nodes, elem)\n",
        "      powers = np.append(powers, power)\n",
        "\n",
        "    data_frame['probability'] = nodes\n",
        "    data_frame['power'] = powers\n",
        "\n",
        "    if iter == 0:\n",
        "      data_frame['trust'] = TRUST_DEFAULT\n",
        "      data_frame['duration'] = DURATION_SENSOR_DEFAULT\n",
        "\n",
        "    # generate plot image files\n",
        "    if GENERATE_PLOT_PNG or iter == ITERATIONS_COUNT - 1:\n",
        "      plt.clf()\n",
        "      plt.scatter(\n",
        "          trusted_plot_indices,\n",
        "          data_frame.loc[trusted_plot_indices, PLOT_VARIABLE].values,\n",
        "          color=\"green\",\n",
        "          label='Trusted nodes',\n",
        "      )\n",
        "      plt.scatter(\n",
        "          heartbeat_indices,\n",
        "          data_frame.loc[heartbeat_indices, PLOT_VARIABLE].values,\n",
        "          color='pink',\n",
        "          label='Heartbeat nodes',\n",
        "      )\n",
        "      if iter >= REPAIR_ITERATION:\n",
        "        plt.scatter(\n",
        "            all_repair_indices,\n",
        "            data_frame.loc[all_repair_indices, PLOT_VARIABLE].values,\n",
        "            color=\"blue\",\n",
        "            label= 'Repaired nodes',\n",
        "        )\n",
        "      plt.scatter(\n",
        "          malicious_indices,\n",
        "          data_frame.loc[malicious_indices, PLOT_VARIABLE].values,\n",
        "          color=\"red\",\n",
        "          label= 'Malicious nodes',\n",
        "      )\n",
        "      plt.scatter(\n",
        "          revoked_indices,\n",
        "          data_frame.loc[revoked_indices, PLOT_VARIABLE].values,\n",
        "          color=\"orange\",\n",
        "          label= 'Revoked nodes',\n",
        "      )\n",
        "      plt.ylim(0, 1)\n",
        "      plt.xlim(0, S - 1)\n",
        "      plt.xlabel('Node ID', fontsize=18)\n",
        "      plt.ylabel(\"Node's \" + PLOT_VARIABLE, fontsize=18)\n",
        "      plt.axhline(UPPER_BOUND, color=\"green\", label=\"Upper bound\")\n",
        "      plt.axhline(LOWER_BOUND, color=\"orange\", label=\"Lower bound\")\n",
        "      plt.grid()\n",
        "      plt.title(f'Round {iter + 1}')\n",
        "      plt.suptitle(f'PE: {PE} - Rounds: {ITERATIONS_COUNT} - Repair config: {repair_nodes_config} - Trusted count: {len(trusted_indices)} - Malicious count: {MALICIOUS_NODES_COUNT} - Revoked count: {REVOKED_NODES_COUNT} - Heartbeat nodes count: {heartbeat_options[\"count\"]} - Heartbeat start round: {heartbeat_options[\"start\"]} - Heartbeat end round: {heartbeat_options[\"end\"]}')\n",
        "      if GENERATE_PLOT_PNG:\n",
        "        png_filename = os.path.join(PLOT_PNG_FOLDER, str(iter) + '.png')\n",
        "        plt.legend()\n",
        "        plt.savefig(png_filename)\n",
        "        plot_list = np.append(plot_list, png_filename)\n",
        "\n",
        "    for n in np.arange(S//K):\n",
        "      # indecies of the n-th E-Sensor\n",
        "      sensor_indices = np.arange(n * K, n * K + K)\n",
        "\n",
        "      if iter >= heartbeat_options['start'] and iter <= heartbeat_options['end']:\n",
        "        sensor_indices = [i for i in sensor_indices if i not in heartbeat_indices]\n",
        "      \n",
        "      for i in sensor_indices:\n",
        "        i_prob = data_frame.at[i, 'probability']\n",
        "\n",
        "        # indices of other nodes of the sensor\n",
        "        others_indices = np.delete(\n",
        "          sensor_indices,\n",
        "          np.where(sensor_indices == i)\n",
        "        )\n",
        "\n",
        "        # average of other nodes of the sensor\n",
        "        others_average = np.mean(\n",
        "            data_frame.loc[others_indices, 'probability'].values\n",
        "        )\n",
        "        data_frame.at[i, 'average'] = others_average\n",
        "\n",
        "        # cost1nodes_indices\n",
        "        i_cost1 = (i_prob - others_average) ** 2\n",
        "        data_frame.at[i, 'cost1'] = i_cost1\n",
        "        \n",
        "        # cost2 calculations\n",
        "        consistant_t = 1\n",
        "        non_consistent_t = 1\n",
        "        \n",
        "        beta = 1\n",
        "        data_frame.at[i, 'duration'] += 1\n",
        "\n",
        "        for j in others_indices:\n",
        "          j_prob = data_frame.at[j, 'probability']\n",
        "\n",
        "          condition = (j_prob - 0.5) * (PE - 0.5)\n",
        "          \n",
        "          if condition < 0:\n",
        "            consistant_t *= j_prob\n",
        "          else:\n",
        "            non_consistent_t *= j_prob\n",
        "\n",
        "          beta *= (data_frame.at[j, 'duration'] / (iter + 1)) * data_frame.at[j, 'power'] * data_frame.at[j, 'trust']\n",
        "        \n",
        "        pi_et = ((PE * consistant_t) /\n",
        "                (PE * consistant_t + (1 - PE) * non_consistent_t))\n",
        "\n",
        "        i_cost2 = (i_prob - pi_et) ** 2\n",
        "        data_frame.at[i, 'cost2'] = i_cost2\n",
        "\n",
        "        age = data_frame.at[i, 'duration'] / (iter + 1)\n",
        "        alpha = age * data_frame.at[i, 'power'] * data_frame.at[i, 'trust']\n",
        "        if with_alpha_beta:\n",
        "          data_frame.at[i, 'utility'] = (1 - alpha) * (i_cost1) + (1 - beta) * (i_cost2)\n",
        "        else:\n",
        "          data_frame.at[i, 'utility'] = i_cost1 + i_cost2\n",
        "\n",
        "      # return sensor_indices to the state that contains heartbeat nodes\n",
        "      sensor_indices = np.arange(n * K, n * K + K)\n",
        "\n",
        "      argmax = np.max(\n",
        "        data_frame.loc[sensor_indices, 'utility'].values\n",
        "      )\n",
        "      argmin = np.min(\n",
        "          data_frame.loc[sensor_indices, 'utility'].values\n",
        "      ) \n",
        "\n",
        "      th_tail = (argmin - argmax) / 2\n",
        "      th_head = argmin + (argmin / 2)\n",
        "\n",
        "      for i in sensor_indices:\n",
        "        i_prob = data_frame.at[i, 'probability']\n",
        "        i_trust = data_frame.at[i, 'trust']\n",
        "\n",
        "        i_new_trust = None\n",
        "\n",
        "        if i in heartbeat_indices and iter >= heartbeat_options['start'] and iter <= heartbeat_options['end']:\n",
        "          i_new_trust = i_trust - TRUST_PUNISH\n",
        "          if i_new_trust < TRUST_MIN:\n",
        "            i_new_trust = TRUST_MIN\n",
        "        else:\n",
        "          condition_base = i_prob >= th_tail and i_prob <= th_head \n",
        "          if condition_base if PE >= 0.5 else not(condition_base):\n",
        "            # punish sensor's trust\n",
        "            if i_trust - TRUST_PUNISH > TRUST_MIN:\n",
        "              i_new_trust = i_trust - TRUST_PUNISH\n",
        "            else:\n",
        "              i_new_trust = TRUST_MIN\n",
        "          else:\n",
        "            # reward sensor's trust\n",
        "            if i_trust + TRUST_REWARD < TRUST_MAX:\n",
        "              i_new_trust = i_trust + TRUST_REWARD\n",
        "            else:\n",
        "              i_new_trust = TRUST_MAX\n",
        "        \n",
        "        data_frame.at[i, 'trust'] = i_new_trust\n",
        "    \n",
        "    # trust average of the system in each iteration\n",
        "    total_average = np.average(\n",
        "        data_frame['trust'].values\n",
        "    )\n",
        "\n",
        "    total_averages = np.append(total_averages, total_average)\n",
        "\n",
        "  return data_frame, total_averages"
      ],
      "execution_count": 5,
      "outputs": [
        {
          "output_type": "display_data",
          "data": {
            "text/plain": [
              "<Figure size 1440x360 with 0 Axes>"
            ]
          },
          "metadata": {}
        }
      ]
    },
    {
      "cell_type": "code",
      "metadata": {
        "colab": {
          "base_uri": "https://localhost:8080/",
          "height": 381
        },
        "id": "TgPyoTk_FPvn",
        "outputId": "79b3a731-d59d-445a-9f89-226439b49a36"
      },
      "source": [
        "heartbeat_options = {\n",
        "    \"count\": HEARTBEAT_NODES_COUNT,\n",
        "    \"start\": HEARTBEAT_START_ITERATION - 1,\n",
        "    \"end\": HEARTBEAT_END_ITERATION - 1\n",
        "}\n",
        "# An array of repair node configs: [[number of repairs, iteration numbber], ...]\n",
        "REPAIR_NODES_CONFIG = [[2, 10], [3, 50]]\n",
        "data_frame, total_averages = run(MALICIOUS_NODES_COUNT, REPAIR_NODES_CONFIG, REVOKED_NODES_COUNT, heartbeat_options, with_alpha_beta=True)\n",
        "\n",
        "data_frame"
      ],
      "execution_count": 6,
      "outputs": [
        {
          "output_type": "error",
          "ename": "KeyboardInterrupt",
          "evalue": "ignored",
          "traceback": [
            "\u001b[0;31m---------------------------------------------------------------------------\u001b[0m",
            "\u001b[0;31mKeyboardInterrupt\u001b[0m                         Traceback (most recent call last)",
            "\u001b[0;32m<ipython-input-6-ff4285bfbc75>\u001b[0m in \u001b[0;36m<module>\u001b[0;34m()\u001b[0m\n\u001b[1;32m      6\u001b[0m \u001b[0;31m# An array of repair node configs: [[number of repairs, iteration numbber], ...]\u001b[0m\u001b[0;34m\u001b[0m\u001b[0;34m\u001b[0m\u001b[0;34m\u001b[0m\u001b[0m\n\u001b[1;32m      7\u001b[0m \u001b[0mREPAIR_NODES_CONFIG\u001b[0m \u001b[0;34m=\u001b[0m \u001b[0;34m[\u001b[0m\u001b[0;34m[\u001b[0m\u001b[0;36m2\u001b[0m\u001b[0;34m,\u001b[0m \u001b[0;36m10\u001b[0m\u001b[0;34m]\u001b[0m\u001b[0;34m,\u001b[0m \u001b[0;34m[\u001b[0m\u001b[0;36m3\u001b[0m\u001b[0;34m,\u001b[0m \u001b[0;36m50\u001b[0m\u001b[0;34m]\u001b[0m\u001b[0;34m]\u001b[0m\u001b[0;34m\u001b[0m\u001b[0;34m\u001b[0m\u001b[0m\n\u001b[0;32m----> 8\u001b[0;31m \u001b[0mdata_frame\u001b[0m\u001b[0;34m,\u001b[0m \u001b[0mtotal_averages\u001b[0m \u001b[0;34m=\u001b[0m \u001b[0mrun\u001b[0m\u001b[0;34m(\u001b[0m\u001b[0mMALICIOUS_NODES_COUNT\u001b[0m\u001b[0;34m,\u001b[0m \u001b[0mREPAIR_NODES_CONFIG\u001b[0m\u001b[0;34m,\u001b[0m \u001b[0mREVOKED_NODES_COUNT\u001b[0m\u001b[0;34m,\u001b[0m \u001b[0mheartbeat_options\u001b[0m\u001b[0;34m,\u001b[0m \u001b[0mwith_alpha_beta\u001b[0m\u001b[0;34m=\u001b[0m\u001b[0;32mTrue\u001b[0m\u001b[0;34m)\u001b[0m\u001b[0;34m\u001b[0m\u001b[0;34m\u001b[0m\u001b[0m\n\u001b[0m\u001b[1;32m      9\u001b[0m \u001b[0;34m\u001b[0m\u001b[0m\n\u001b[1;32m     10\u001b[0m \u001b[0mdata_frame\u001b[0m\u001b[0;34m\u001b[0m\u001b[0;34m\u001b[0m\u001b[0m\n",
            "\u001b[0;32m<ipython-input-5-b40b67151463>\u001b[0m in \u001b[0;36mrun\u001b[0;34m(mal_count, repair_nodes_config, revoked_nodes_count, heartbeat_options, with_alpha_beta)\u001b[0m\n\u001b[1;32m    210\u001b[0m         \u001b[0;31m# average of other nodes of the sensor\u001b[0m\u001b[0;34m\u001b[0m\u001b[0;34m\u001b[0m\u001b[0;34m\u001b[0m\u001b[0m\n\u001b[1;32m    211\u001b[0m         others_average = np.mean(\n\u001b[0;32m--> 212\u001b[0;31m             \u001b[0mdata_frame\u001b[0m\u001b[0;34m.\u001b[0m\u001b[0mloc\u001b[0m\u001b[0;34m[\u001b[0m\u001b[0mothers_indices\u001b[0m\u001b[0;34m,\u001b[0m \u001b[0;34m'probability'\u001b[0m\u001b[0;34m]\u001b[0m\u001b[0;34m.\u001b[0m\u001b[0mvalues\u001b[0m\u001b[0;34m\u001b[0m\u001b[0;34m\u001b[0m\u001b[0m\n\u001b[0m\u001b[1;32m    213\u001b[0m         )\n\u001b[1;32m    214\u001b[0m         \u001b[0mdata_frame\u001b[0m\u001b[0;34m.\u001b[0m\u001b[0mat\u001b[0m\u001b[0;34m[\u001b[0m\u001b[0mi\u001b[0m\u001b[0;34m,\u001b[0m \u001b[0;34m'average'\u001b[0m\u001b[0;34m]\u001b[0m \u001b[0;34m=\u001b[0m \u001b[0mothers_average\u001b[0m\u001b[0;34m\u001b[0m\u001b[0;34m\u001b[0m\u001b[0m\n",
            "\u001b[0;32m/usr/local/lib/python3.7/dist-packages/pandas/core/indexing.py\u001b[0m in \u001b[0;36m__getitem__\u001b[0;34m(self, key)\u001b[0m\n\u001b[1;32m    871\u001b[0m                     \u001b[0;31m# AttributeError for IntervalTree get_value\u001b[0m\u001b[0;34m\u001b[0m\u001b[0;34m\u001b[0m\u001b[0;34m\u001b[0m\u001b[0m\n\u001b[1;32m    872\u001b[0m                     \u001b[0;32mpass\u001b[0m\u001b[0;34m\u001b[0m\u001b[0;34m\u001b[0m\u001b[0m\n\u001b[0;32m--> 873\u001b[0;31m             \u001b[0;32mreturn\u001b[0m \u001b[0mself\u001b[0m\u001b[0;34m.\u001b[0m\u001b[0m_getitem_tuple\u001b[0m\u001b[0;34m(\u001b[0m\u001b[0mkey\u001b[0m\u001b[0;34m)\u001b[0m\u001b[0;34m\u001b[0m\u001b[0;34m\u001b[0m\u001b[0m\n\u001b[0m\u001b[1;32m    874\u001b[0m         \u001b[0;32melse\u001b[0m\u001b[0;34m:\u001b[0m\u001b[0;34m\u001b[0m\u001b[0;34m\u001b[0m\u001b[0m\n\u001b[1;32m    875\u001b[0m             \u001b[0;31m# we by definition only have the 0th axis\u001b[0m\u001b[0;34m\u001b[0m\u001b[0;34m\u001b[0m\u001b[0;34m\u001b[0m\u001b[0m\n",
            "\u001b[0;32m/usr/local/lib/python3.7/dist-packages/pandas/core/indexing.py\u001b[0m in \u001b[0;36m_getitem_tuple\u001b[0;34m(self, tup)\u001b[0m\n\u001b[1;32m   1042\u001b[0m     \u001b[0;32mdef\u001b[0m \u001b[0m_getitem_tuple\u001b[0m\u001b[0;34m(\u001b[0m\u001b[0mself\u001b[0m\u001b[0;34m,\u001b[0m \u001b[0mtup\u001b[0m\u001b[0;34m:\u001b[0m \u001b[0mTuple\u001b[0m\u001b[0;34m)\u001b[0m\u001b[0;34m:\u001b[0m\u001b[0;34m\u001b[0m\u001b[0;34m\u001b[0m\u001b[0m\n\u001b[1;32m   1043\u001b[0m         \u001b[0;32mtry\u001b[0m\u001b[0;34m:\u001b[0m\u001b[0;34m\u001b[0m\u001b[0;34m\u001b[0m\u001b[0m\n\u001b[0;32m-> 1044\u001b[0;31m             \u001b[0;32mreturn\u001b[0m \u001b[0mself\u001b[0m\u001b[0;34m.\u001b[0m\u001b[0m_getitem_lowerdim\u001b[0m\u001b[0;34m(\u001b[0m\u001b[0mtup\u001b[0m\u001b[0;34m)\u001b[0m\u001b[0;34m\u001b[0m\u001b[0;34m\u001b[0m\u001b[0m\n\u001b[0m\u001b[1;32m   1045\u001b[0m         \u001b[0;32mexcept\u001b[0m \u001b[0mIndexingError\u001b[0m\u001b[0;34m:\u001b[0m\u001b[0;34m\u001b[0m\u001b[0;34m\u001b[0m\u001b[0m\n\u001b[1;32m   1046\u001b[0m             \u001b[0;32mpass\u001b[0m\u001b[0;34m\u001b[0m\u001b[0;34m\u001b[0m\u001b[0m\n",
            "\u001b[0;32m/usr/local/lib/python3.7/dist-packages/pandas/core/indexing.py\u001b[0m in \u001b[0;36m_getitem_lowerdim\u001b[0;34m(self, tup)\u001b[0m\n\u001b[1;32m    808\u001b[0m                     \u001b[0;32mreturn\u001b[0m \u001b[0msection\u001b[0m\u001b[0;34m\u001b[0m\u001b[0;34m\u001b[0m\u001b[0m\n\u001b[1;32m    809\u001b[0m                 \u001b[0;31m# This is an elided recursive call to iloc/loc\u001b[0m\u001b[0;34m\u001b[0m\u001b[0;34m\u001b[0m\u001b[0;34m\u001b[0m\u001b[0m\n\u001b[0;32m--> 810\u001b[0;31m                 \u001b[0;32mreturn\u001b[0m \u001b[0mgetattr\u001b[0m\u001b[0;34m(\u001b[0m\u001b[0msection\u001b[0m\u001b[0;34m,\u001b[0m \u001b[0mself\u001b[0m\u001b[0;34m.\u001b[0m\u001b[0mname\u001b[0m\u001b[0;34m)\u001b[0m\u001b[0;34m[\u001b[0m\u001b[0mnew_key\u001b[0m\u001b[0;34m]\u001b[0m\u001b[0;34m\u001b[0m\u001b[0;34m\u001b[0m\u001b[0m\n\u001b[0m\u001b[1;32m    811\u001b[0m \u001b[0;34m\u001b[0m\u001b[0m\n\u001b[1;32m    812\u001b[0m         \u001b[0;32mraise\u001b[0m \u001b[0mIndexingError\u001b[0m\u001b[0;34m(\u001b[0m\u001b[0;34m\"not applicable\"\u001b[0m\u001b[0;34m)\u001b[0m\u001b[0;34m\u001b[0m\u001b[0;34m\u001b[0m\u001b[0m\n",
            "\u001b[0;32m/usr/local/lib/python3.7/dist-packages/pandas/core/indexing.py\u001b[0m in \u001b[0;36m__getitem__\u001b[0;34m(self, key)\u001b[0m\n\u001b[1;32m    877\u001b[0m \u001b[0;34m\u001b[0m\u001b[0m\n\u001b[1;32m    878\u001b[0m             \u001b[0mmaybe_callable\u001b[0m \u001b[0;34m=\u001b[0m \u001b[0mcom\u001b[0m\u001b[0;34m.\u001b[0m\u001b[0mapply_if_callable\u001b[0m\u001b[0;34m(\u001b[0m\u001b[0mkey\u001b[0m\u001b[0;34m,\u001b[0m \u001b[0mself\u001b[0m\u001b[0;34m.\u001b[0m\u001b[0mobj\u001b[0m\u001b[0;34m)\u001b[0m\u001b[0;34m\u001b[0m\u001b[0;34m\u001b[0m\u001b[0m\n\u001b[0;32m--> 879\u001b[0;31m             \u001b[0;32mreturn\u001b[0m \u001b[0mself\u001b[0m\u001b[0;34m.\u001b[0m\u001b[0m_getitem_axis\u001b[0m\u001b[0;34m(\u001b[0m\u001b[0mmaybe_callable\u001b[0m\u001b[0;34m,\u001b[0m \u001b[0maxis\u001b[0m\u001b[0;34m=\u001b[0m\u001b[0maxis\u001b[0m\u001b[0;34m)\u001b[0m\u001b[0;34m\u001b[0m\u001b[0;34m\u001b[0m\u001b[0m\n\u001b[0m\u001b[1;32m    880\u001b[0m \u001b[0;34m\u001b[0m\u001b[0m\n\u001b[1;32m    881\u001b[0m     \u001b[0;32mdef\u001b[0m \u001b[0m_is_scalar_access\u001b[0m\u001b[0;34m(\u001b[0m\u001b[0mself\u001b[0m\u001b[0;34m,\u001b[0m \u001b[0mkey\u001b[0m\u001b[0;34m:\u001b[0m \u001b[0mTuple\u001b[0m\u001b[0;34m)\u001b[0m\u001b[0;34m:\u001b[0m\u001b[0;34m\u001b[0m\u001b[0;34m\u001b[0m\u001b[0m\n",
            "\u001b[0;32m/usr/local/lib/python3.7/dist-packages/pandas/core/indexing.py\u001b[0m in \u001b[0;36m_getitem_axis\u001b[0;34m(self, key, axis)\u001b[0m\n\u001b[1;32m   1097\u001b[0m                     \u001b[0;32mraise\u001b[0m \u001b[0mValueError\u001b[0m\u001b[0;34m(\u001b[0m\u001b[0;34m\"Cannot index with multidimensional key\"\u001b[0m\u001b[0;34m)\u001b[0m\u001b[0;34m\u001b[0m\u001b[0;34m\u001b[0m\u001b[0m\n\u001b[1;32m   1098\u001b[0m \u001b[0;34m\u001b[0m\u001b[0m\n\u001b[0;32m-> 1099\u001b[0;31m                 \u001b[0;32mreturn\u001b[0m \u001b[0mself\u001b[0m\u001b[0;34m.\u001b[0m\u001b[0m_getitem_iterable\u001b[0m\u001b[0;34m(\u001b[0m\u001b[0mkey\u001b[0m\u001b[0;34m,\u001b[0m \u001b[0maxis\u001b[0m\u001b[0;34m=\u001b[0m\u001b[0maxis\u001b[0m\u001b[0;34m)\u001b[0m\u001b[0;34m\u001b[0m\u001b[0;34m\u001b[0m\u001b[0m\n\u001b[0m\u001b[1;32m   1100\u001b[0m \u001b[0;34m\u001b[0m\u001b[0m\n\u001b[1;32m   1101\u001b[0m             \u001b[0;31m# nested tuple slicing\u001b[0m\u001b[0;34m\u001b[0m\u001b[0;34m\u001b[0m\u001b[0;34m\u001b[0m\u001b[0m\n",
            "\u001b[0;32m/usr/local/lib/python3.7/dist-packages/pandas/core/indexing.py\u001b[0m in \u001b[0;36m_getitem_iterable\u001b[0;34m(self, key, axis)\u001b[0m\n\u001b[1;32m   1037\u001b[0m         \u001b[0mkeyarr\u001b[0m\u001b[0;34m,\u001b[0m \u001b[0mindexer\u001b[0m \u001b[0;34m=\u001b[0m \u001b[0mself\u001b[0m\u001b[0;34m.\u001b[0m\u001b[0m_get_listlike_indexer\u001b[0m\u001b[0;34m(\u001b[0m\u001b[0mkey\u001b[0m\u001b[0;34m,\u001b[0m \u001b[0maxis\u001b[0m\u001b[0;34m,\u001b[0m \u001b[0mraise_missing\u001b[0m\u001b[0;34m=\u001b[0m\u001b[0;32mFalse\u001b[0m\u001b[0;34m)\u001b[0m\u001b[0;34m\u001b[0m\u001b[0;34m\u001b[0m\u001b[0m\n\u001b[1;32m   1038\u001b[0m         return self.obj._reindex_with_indexers(\n\u001b[0;32m-> 1039\u001b[0;31m             \u001b[0;34m{\u001b[0m\u001b[0maxis\u001b[0m\u001b[0;34m:\u001b[0m \u001b[0;34m[\u001b[0m\u001b[0mkeyarr\u001b[0m\u001b[0;34m,\u001b[0m \u001b[0mindexer\u001b[0m\u001b[0;34m]\u001b[0m\u001b[0;34m}\u001b[0m\u001b[0;34m,\u001b[0m \u001b[0mcopy\u001b[0m\u001b[0;34m=\u001b[0m\u001b[0;32mTrue\u001b[0m\u001b[0;34m,\u001b[0m \u001b[0mallow_dups\u001b[0m\u001b[0;34m=\u001b[0m\u001b[0;32mTrue\u001b[0m\u001b[0;34m\u001b[0m\u001b[0;34m\u001b[0m\u001b[0m\n\u001b[0m\u001b[1;32m   1040\u001b[0m         )\n\u001b[1;32m   1041\u001b[0m \u001b[0;34m\u001b[0m\u001b[0m\n",
            "\u001b[0;32m/usr/local/lib/python3.7/dist-packages/pandas/core/generic.py\u001b[0m in \u001b[0;36m_reindex_with_indexers\u001b[0;34m(self, reindexers, fill_value, copy, allow_dups)\u001b[0m\n\u001b[1;32m   4530\u001b[0m                 \u001b[0mfill_value\u001b[0m\u001b[0;34m=\u001b[0m\u001b[0mfill_value\u001b[0m\u001b[0;34m,\u001b[0m\u001b[0;34m\u001b[0m\u001b[0;34m\u001b[0m\u001b[0m\n\u001b[1;32m   4531\u001b[0m                 \u001b[0mallow_dups\u001b[0m\u001b[0;34m=\u001b[0m\u001b[0mallow_dups\u001b[0m\u001b[0;34m,\u001b[0m\u001b[0;34m\u001b[0m\u001b[0;34m\u001b[0m\u001b[0m\n\u001b[0;32m-> 4532\u001b[0;31m                 \u001b[0mcopy\u001b[0m\u001b[0;34m=\u001b[0m\u001b[0mcopy\u001b[0m\u001b[0;34m,\u001b[0m\u001b[0;34m\u001b[0m\u001b[0;34m\u001b[0m\u001b[0m\n\u001b[0m\u001b[1;32m   4533\u001b[0m             )\n\u001b[1;32m   4534\u001b[0m             \u001b[0;31m# If we've made a copy once, no need to make another one\u001b[0m\u001b[0;34m\u001b[0m\u001b[0;34m\u001b[0m\u001b[0;34m\u001b[0m\u001b[0m\n",
            "\u001b[0;32m/usr/local/lib/python3.7/dist-packages/pandas/core/internals/managers.py\u001b[0m in \u001b[0;36mreindex_indexer\u001b[0;34m(self, new_axis, indexer, axis, fill_value, allow_dups, copy, consolidate)\u001b[0m\n\u001b[1;32m   1289\u001b[0m \u001b[0;34m\u001b[0m\u001b[0m\n\u001b[1;32m   1290\u001b[0m         \u001b[0;32mif\u001b[0m \u001b[0maxis\u001b[0m \u001b[0;34m==\u001b[0m \u001b[0;36m0\u001b[0m\u001b[0;34m:\u001b[0m\u001b[0;34m\u001b[0m\u001b[0;34m\u001b[0m\u001b[0m\n\u001b[0;32m-> 1291\u001b[0;31m             \u001b[0mnew_blocks\u001b[0m \u001b[0;34m=\u001b[0m \u001b[0mself\u001b[0m\u001b[0;34m.\u001b[0m\u001b[0m_slice_take_blocks_ax0\u001b[0m\u001b[0;34m(\u001b[0m\u001b[0mindexer\u001b[0m\u001b[0;34m,\u001b[0m \u001b[0mfill_value\u001b[0m\u001b[0;34m=\u001b[0m\u001b[0mfill_value\u001b[0m\u001b[0;34m)\u001b[0m\u001b[0;34m\u001b[0m\u001b[0;34m\u001b[0m\u001b[0m\n\u001b[0m\u001b[1;32m   1292\u001b[0m         \u001b[0;32melse\u001b[0m\u001b[0;34m:\u001b[0m\u001b[0;34m\u001b[0m\u001b[0;34m\u001b[0m\u001b[0m\n\u001b[1;32m   1293\u001b[0m             new_blocks = [\n",
            "\u001b[0;32m/usr/local/lib/python3.7/dist-packages/pandas/core/internals/managers.py\u001b[0m in \u001b[0;36m_slice_take_blocks_ax0\u001b[0;34m(self, slice_or_indexer, fill_value, only_slice)\u001b[0m\n\u001b[1;32m   1360\u001b[0m                             \u001b[0maxis\u001b[0m\u001b[0;34m=\u001b[0m\u001b[0;36m0\u001b[0m\u001b[0;34m,\u001b[0m\u001b[0;34m\u001b[0m\u001b[0;34m\u001b[0m\u001b[0m\n\u001b[1;32m   1361\u001b[0m                             \u001b[0mnew_mgr_locs\u001b[0m\u001b[0;34m=\u001b[0m\u001b[0mslice\u001b[0m\u001b[0;34m(\u001b[0m\u001b[0;36m0\u001b[0m\u001b[0;34m,\u001b[0m \u001b[0msllen\u001b[0m\u001b[0;34m)\u001b[0m\u001b[0;34m,\u001b[0m\u001b[0;34m\u001b[0m\u001b[0;34m\u001b[0m\u001b[0m\n\u001b[0;32m-> 1362\u001b[0;31m                             \u001b[0mfill_value\u001b[0m\u001b[0;34m=\u001b[0m\u001b[0mfill_value\u001b[0m\u001b[0;34m,\u001b[0m\u001b[0;34m\u001b[0m\u001b[0;34m\u001b[0m\u001b[0m\n\u001b[0m\u001b[1;32m   1363\u001b[0m                         )\n\u001b[1;32m   1364\u001b[0m                     ]\n",
            "\u001b[0;32m/usr/local/lib/python3.7/dist-packages/pandas/core/internals/blocks.py\u001b[0m in \u001b[0;36mtake_nd\u001b[0;34m(self, indexer, axis, new_mgr_locs, fill_value)\u001b[0m\n\u001b[1;32m   1266\u001b[0m             \u001b[0;32mreturn\u001b[0m \u001b[0mself\u001b[0m\u001b[0;34m.\u001b[0m\u001b[0mmake_block\u001b[0m\u001b[0;34m(\u001b[0m\u001b[0mnew_values\u001b[0m\u001b[0;34m,\u001b[0m \u001b[0mnew_mgr_locs\u001b[0m\u001b[0;34m)\u001b[0m\u001b[0;34m\u001b[0m\u001b[0;34m\u001b[0m\u001b[0m\n\u001b[1;32m   1267\u001b[0m         \u001b[0;32melse\u001b[0m\u001b[0;34m:\u001b[0m\u001b[0;34m\u001b[0m\u001b[0;34m\u001b[0m\u001b[0m\n\u001b[0;32m-> 1268\u001b[0;31m             \u001b[0;32mreturn\u001b[0m \u001b[0mself\u001b[0m\u001b[0;34m.\u001b[0m\u001b[0mmake_block_same_class\u001b[0m\u001b[0;34m(\u001b[0m\u001b[0mnew_values\u001b[0m\u001b[0;34m,\u001b[0m \u001b[0mnew_mgr_locs\u001b[0m\u001b[0;34m)\u001b[0m\u001b[0;34m\u001b[0m\u001b[0;34m\u001b[0m\u001b[0m\n\u001b[0m\u001b[1;32m   1269\u001b[0m \u001b[0;34m\u001b[0m\u001b[0m\n\u001b[1;32m   1270\u001b[0m     \u001b[0;32mdef\u001b[0m \u001b[0mdiff\u001b[0m\u001b[0;34m(\u001b[0m\u001b[0mself\u001b[0m\u001b[0;34m,\u001b[0m \u001b[0mn\u001b[0m\u001b[0;34m:\u001b[0m \u001b[0mint\u001b[0m\u001b[0;34m,\u001b[0m \u001b[0maxis\u001b[0m\u001b[0;34m:\u001b[0m \u001b[0mint\u001b[0m \u001b[0;34m=\u001b[0m \u001b[0;36m1\u001b[0m\u001b[0;34m)\u001b[0m \u001b[0;34m->\u001b[0m \u001b[0mList\u001b[0m\u001b[0;34m[\u001b[0m\u001b[0;34m\"Block\"\u001b[0m\u001b[0;34m]\u001b[0m\u001b[0;34m:\u001b[0m\u001b[0;34m\u001b[0m\u001b[0;34m\u001b[0m\u001b[0m\n",
            "\u001b[0;32m/usr/local/lib/python3.7/dist-packages/pandas/core/internals/blocks.py\u001b[0m in \u001b[0;36mmake_block_same_class\u001b[0;34m(self, values, placement, ndim)\u001b[0m\n\u001b[1;32m    260\u001b[0m         \u001b[0;32mif\u001b[0m \u001b[0mndim\u001b[0m \u001b[0;32mis\u001b[0m \u001b[0;32mNone\u001b[0m\u001b[0;34m:\u001b[0m\u001b[0;34m\u001b[0m\u001b[0;34m\u001b[0m\u001b[0m\n\u001b[1;32m    261\u001b[0m             \u001b[0mndim\u001b[0m \u001b[0;34m=\u001b[0m \u001b[0mself\u001b[0m\u001b[0;34m.\u001b[0m\u001b[0mndim\u001b[0m\u001b[0;34m\u001b[0m\u001b[0;34m\u001b[0m\u001b[0m\n\u001b[0;32m--> 262\u001b[0;31m         \u001b[0;32mreturn\u001b[0m \u001b[0mtype\u001b[0m\u001b[0;34m(\u001b[0m\u001b[0mself\u001b[0m\u001b[0;34m)\u001b[0m\u001b[0;34m(\u001b[0m\u001b[0mvalues\u001b[0m\u001b[0;34m,\u001b[0m \u001b[0mplacement\u001b[0m\u001b[0;34m=\u001b[0m\u001b[0mplacement\u001b[0m\u001b[0;34m,\u001b[0m \u001b[0mndim\u001b[0m\u001b[0;34m=\u001b[0m\u001b[0mndim\u001b[0m\u001b[0;34m)\u001b[0m\u001b[0;34m\u001b[0m\u001b[0;34m\u001b[0m\u001b[0m\n\u001b[0m\u001b[1;32m    263\u001b[0m \u001b[0;34m\u001b[0m\u001b[0m\n\u001b[1;32m    264\u001b[0m     \u001b[0;32mdef\u001b[0m \u001b[0m__repr__\u001b[0m\u001b[0;34m(\u001b[0m\u001b[0mself\u001b[0m\u001b[0;34m)\u001b[0m \u001b[0;34m->\u001b[0m \u001b[0mstr\u001b[0m\u001b[0;34m:\u001b[0m\u001b[0;34m\u001b[0m\u001b[0;34m\u001b[0m\u001b[0m\n",
            "\u001b[0;32m/usr/local/lib/python3.7/dist-packages/pandas/core/internals/blocks.py\u001b[0m in \u001b[0;36m__init__\u001b[0;34m(self, values, placement, ndim)\u001b[0m\n\u001b[1;32m    124\u001b[0m     \u001b[0;32mdef\u001b[0m \u001b[0m__init__\u001b[0m\u001b[0;34m(\u001b[0m\u001b[0mself\u001b[0m\u001b[0;34m,\u001b[0m \u001b[0mvalues\u001b[0m\u001b[0;34m,\u001b[0m \u001b[0mplacement\u001b[0m\u001b[0;34m,\u001b[0m \u001b[0mndim\u001b[0m\u001b[0;34m=\u001b[0m\u001b[0;32mNone\u001b[0m\u001b[0;34m)\u001b[0m\u001b[0;34m:\u001b[0m\u001b[0;34m\u001b[0m\u001b[0;34m\u001b[0m\u001b[0m\n\u001b[1;32m    125\u001b[0m         \u001b[0mself\u001b[0m\u001b[0;34m.\u001b[0m\u001b[0mndim\u001b[0m \u001b[0;34m=\u001b[0m \u001b[0mself\u001b[0m\u001b[0;34m.\u001b[0m\u001b[0m_check_ndim\u001b[0m\u001b[0;34m(\u001b[0m\u001b[0mvalues\u001b[0m\u001b[0;34m,\u001b[0m \u001b[0mndim\u001b[0m\u001b[0;34m)\u001b[0m\u001b[0;34m\u001b[0m\u001b[0;34m\u001b[0m\u001b[0m\n\u001b[0;32m--> 126\u001b[0;31m         \u001b[0mself\u001b[0m\u001b[0;34m.\u001b[0m\u001b[0mmgr_locs\u001b[0m \u001b[0;34m=\u001b[0m \u001b[0mplacement\u001b[0m\u001b[0;34m\u001b[0m\u001b[0;34m\u001b[0m\u001b[0m\n\u001b[0m\u001b[1;32m    127\u001b[0m         \u001b[0mself\u001b[0m\u001b[0;34m.\u001b[0m\u001b[0mvalues\u001b[0m \u001b[0;34m=\u001b[0m \u001b[0mvalues\u001b[0m\u001b[0;34m\u001b[0m\u001b[0;34m\u001b[0m\u001b[0m\n\u001b[1;32m    128\u001b[0m \u001b[0;34m\u001b[0m\u001b[0m\n",
            "\u001b[0;32m/usr/local/lib/python3.7/dist-packages/pandas/core/internals/blocks.py\u001b[0m in \u001b[0;36mmgr_locs\u001b[0;34m(self, new_mgr_locs)\u001b[0m\n\u001b[1;32m    238\u001b[0m     \u001b[0;32mdef\u001b[0m \u001b[0mmgr_locs\u001b[0m\u001b[0;34m(\u001b[0m\u001b[0mself\u001b[0m\u001b[0;34m,\u001b[0m \u001b[0mnew_mgr_locs\u001b[0m\u001b[0;34m)\u001b[0m\u001b[0;34m:\u001b[0m\u001b[0;34m\u001b[0m\u001b[0;34m\u001b[0m\u001b[0m\n\u001b[1;32m    239\u001b[0m         \u001b[0;32mif\u001b[0m \u001b[0;32mnot\u001b[0m \u001b[0misinstance\u001b[0m\u001b[0;34m(\u001b[0m\u001b[0mnew_mgr_locs\u001b[0m\u001b[0;34m,\u001b[0m \u001b[0mlibinternals\u001b[0m\u001b[0;34m.\u001b[0m\u001b[0mBlockPlacement\u001b[0m\u001b[0;34m)\u001b[0m\u001b[0;34m:\u001b[0m\u001b[0;34m\u001b[0m\u001b[0;34m\u001b[0m\u001b[0m\n\u001b[0;32m--> 240\u001b[0;31m             \u001b[0mnew_mgr_locs\u001b[0m \u001b[0;34m=\u001b[0m \u001b[0mlibinternals\u001b[0m\u001b[0;34m.\u001b[0m\u001b[0mBlockPlacement\u001b[0m\u001b[0;34m(\u001b[0m\u001b[0mnew_mgr_locs\u001b[0m\u001b[0;34m)\u001b[0m\u001b[0;34m\u001b[0m\u001b[0;34m\u001b[0m\u001b[0m\n\u001b[0m\u001b[1;32m    241\u001b[0m \u001b[0;34m\u001b[0m\u001b[0m\n\u001b[1;32m    242\u001b[0m         \u001b[0mself\u001b[0m\u001b[0;34m.\u001b[0m\u001b[0m_mgr_locs\u001b[0m \u001b[0;34m=\u001b[0m \u001b[0mnew_mgr_locs\u001b[0m\u001b[0;34m\u001b[0m\u001b[0;34m\u001b[0m\u001b[0m\n",
            "\u001b[0;31mKeyboardInterrupt\u001b[0m: "
          ]
        }
      ]
    },
    {
      "cell_type": "code",
      "metadata": {
        "id": "ASgIAog_PGI-"
      },
      "source": [
        "std = data_frame['utility'].std()\n",
        "mn = data_frame['utility'].mean() \n",
        "plt.scatter(np.arange(0,100,1), data_frame['utility'] .values, marker='o', c = 'b')\n",
        "\n",
        "\n",
        "plt.axhline(mn, c = 'g', label = 'Mean')\n",
        "plt.axhline(mn + std, c = 'r', label = 'head')\n",
        "plt.axhline(mn - std, c = 'b', label= 'tail')\n",
        "\n",
        "\n",
        "plt.legend()\n",
        "print('Mean ', mn)\n",
        "print('std',std)\n",
        "print( ' The utility should be between' + str(mn - std) + 'and' +str(mn + std))"
      ],
      "execution_count": null,
      "outputs": []
    },
    {
      "cell_type": "code",
      "metadata": {
        "id": "z9GFaaD-OdAP"
      },
      "source": [
        "plt.plot(np.arange(1, ITERATIONS_COUNT + 1), total_averages, label = 'Average trust', c= 'g')\n",
        "\n",
        "plt.axhline(UPPER_BOUND, color=\"green\", label=\"Upper bound\")\n",
        "#plt.axhline(LOWER_BOUND, color=\"Red\", label=\"Lower bound\")\n",
        "plt.axhline(PE, color=\"Blue\", label=\"Prior Trust\")\n",
        "plt.axhline(0.5, color=\"Orange\", label=\"Initial Trust \")\n",
        "plt.xlabel('Rounds', fontsize=12)\n",
        "plt.ylabel(\"Average trust\", fontsize=12)\n",
        "#plt.title('  Evaluation of the game theory model ')\n",
        "#plt.suptitle(f'PE: {PE} - Repair round: {REPAIR_ITERATION} - Trusted count: {len(trusted_indices)} - Malicious count: {MALICIOUS_NODES_COUNT} - Revoked count: {REVOKED_NODES_COUNT} - Repair count: {REPAIRED_NODES_COUNT}')\n",
        "plt.legend()\n",
        "plt.grid()"
      ],
      "execution_count": null,
      "outputs": []
    },
    {
      "cell_type": "code",
      "metadata": {
        "id": "HLneouyI9B5M"
      },
      "source": [
        "colors = ['red', 'green', 'blue', 'orange']\n",
        "mal_counts = [10, 20, 30, 40]\n",
        "total_averages = []\n",
        "for i in range(4):\n",
        "  data_frame, total_average = run(S * mal_counts[i] // 100, [], 0)\n",
        "  total_averages.append(total_average)\n",
        "\n",
        "indexes = np.arange(1, ITERATIONS_COUNT + 1);\n",
        "plt.clf()\n",
        "for i in range(4):\n",
        "  plt.plot(indexes, total_averages[i], label = f'Average trust {mal_counts[i]}% noise', c= colors[i])\n",
        "  # linestyle=\"dashed\"\n",
        "\n",
        "plt.xlabel('Rounds', fontsize=12)\n",
        "plt.ylabel(\"Average trust\", fontsize=12)\n",
        "plt.ylim(0.2, 1)\n",
        "plt.suptitle(f'PE: {PE} - Repair round: {REPAIR_ITERATION} - Revoked count: {REVOKED_NODES_COUNT} - Repair count: {REPAIRED_NODES_COUNT}')\n",
        "plt.legend()\n",
        "plt.grid()"
      ],
      "execution_count": null,
      "outputs": []
    },
    {
      "cell_type": "code",
      "metadata": {
        "id": "Zm4axM3VDU87"
      },
      "source": [
        "# plot system's average trust - (TEGT) & (TEGT - α β) & (TEGT - SC - α β)\n",
        "\n",
        "colors = ['red', 'green', 'blue', 'orange']\n",
        "mal_counts = [10, 20, 30, 40]\n",
        "\n",
        "total_averages = []\n",
        "for i in range(4):\n",
        "  data_frame, total_average = run(S * mal_counts[i] // 100, [], 0)\n",
        "  total_averages.append(total_average)\n",
        "\n",
        "total_averages_without_alpha_beta = []\n",
        "for i in range(4):\n",
        "  data_frame, total_average = run(S * mal_counts[i] // 100, [], 0, with_alpha_beta=False)\n",
        "  total_averages_without_alpha_beta.append(total_average)\n",
        "\n",
        "repair_config = []\n",
        "total_averages_second_chance = []\n",
        "for i in range(4):\n",
        "  data_frame, total_average = run(S * mal_counts[i] // 100, repair_config, 0, with_alpha_beta=False)\n",
        "  total_averages_second_chance.append(total_average)\n",
        "\n",
        "indexes = np.arange(1, ITERATIONS_COUNT + 1);\n",
        "plt.clf()\n",
        "plt.figure(figsize=(20, 9))\n",
        "for i in range(4):\n",
        "  plt.plot(indexes, total_averages_without_alpha_beta[i], label = f'{mal_counts[i]}% noise - TEGT', c= colors[i], linestyle='dashed')\n",
        "for i in range(4):\n",
        "  plt.plot(indexes, total_averages[i], label = f'{mal_counts[i]}% noise - TEGT (α β)', c= colors[i], linestyle='dashdot')\n",
        "for i in range(4):\n",
        "  plt.plot(indexes, total_averages_second_chance[i], label = f'{mal_counts[i]}% noise - TEGTSC(α,β)', c= colors[i], linestyle='solid' )\n",
        "\n",
        "plt.xlabel('Rounds', fontsize=12)\n",
        "plt.ylabel(\"Average trust\", fontsize=12)\n",
        "plt.ylim(0.2, 1)\n",
        "plt.suptitle(f'Comparison of the results for TEGT & TEGT(α,β) & TEGTSC(α,β) model with PE: {PE} - SC config: {repair_config}')\n",
        "plt.legend()\n",
        "plt.grid()"
      ],
      "execution_count": null,
      "outputs": []
    },
    {
      "cell_type": "code",
      "metadata": {
        "colab": {
          "base_uri": "https://localhost:8080/"
        },
        "id": "PE8LT_B--iEs",
        "outputId": "a4716eb5-b780-4c1d-8ce9-cc9230fe9059"
      },
      "source": [
        "for i in range(4): \n",
        "  print('TEGT-Ab', mal_counts[i], np.max(total_averages[i]))\n",
        "  print('TEGT ', mal_counts[i],np.max(total_averages_without_alpha_beta[i]))\n",
        "  print('TEGT_SC_AB model  ', mal_counts[i], np.max(total_averages_second_chance[i]))\n",
        "  \n",
        "  "
      ],
      "execution_count": null,
      "outputs": [
        {
          "name": "stdout",
          "output_type": "stream",
          "text": [
            "TEGT 10 0.8267000000000003\n",
            "TEGT_AB  10 0.8238000000000002\n",
            "TEGT_SC_AB model   10 0.8465000000000004\n",
            "TEGT 20 0.7427000000000004\n",
            "TEGT_AB  20 0.7394999999999999\n",
            "TEGT_SC_AB model   20 0.7650000000000002\n",
            "TEGT 33 0.6386999999999999\n",
            "TEGT_AB  33 0.6020000000000001\n",
            "TEGT_SC_AB model   33 0.6329000000000001\n",
            "TEGT 40 0.5658000000000001\n",
            "TEGT_AB  40 0.48680000000000023\n",
            "TEGT_SC_AB model   40 0.4860000000000002\n"
          ]
        }
      ]
    },
    {
      "cell_type": "code",
      "metadata": {
        "colab": {
          "background_save": true
        },
        "id": "BJsoa5v5D1Ox",
        "outputId": "bac55518-a61a-4755-86bd-ec5316ee33bd"
      },
      "source": [
        "mal_count = S * 10 // 100\n",
        "_, total_average_without_repaired = run(mal_count, [], 0)\n",
        "_, total_average_with_repaired = run(mal_count, [[3, 40]], 0)\n",
        "\n",
        "indexes = np.arange(1, ITERATIONS_COUNT + 1);\n",
        "plt.clf()\n",
        "plt.plot(indexes, total_average_without_repaired, label=f'Average trust with 0 repaired', c='blue')\n",
        "plt.plot(indexes, total_average_with_repaired, label=f'Average trust with 3 repaired', c='green')\n",
        "\n",
        "plt.xlabel('Rounds', fontsize=12)\n",
        "plt.ylabel(\"Average trust\", fontsize=12)\n",
        "plt.suptitle(f'Evaluating trust value with the second chance protocol Repair round: {REPAIR_ITERATION} - Revoked count: {REVOKED_NODES_COUNT} - Repair count: {REPAIRED_NODES_COUNT}')\n",
        "plt.legend()\n",
        "plt.grid()"
      ],
      "execution_count": null,
      "outputs": [
        {
          "data": {
            "image/png": "[encoded data removed]",
            "text/plain": [
              "<Figure size 432x288 with 1 Axes>"
            ]
          },
          "metadata": {},
          "output_type": "display_data"
        }
      ]
    },
    {
      "cell_type": "code",
      "metadata": {
        "colab": {
          "base_uri": "https://localhost:8080/",
          "height": 311
        },
        "id": "Os-GM9ThGxo0",
        "outputId": "17da5fa2-3512-4f37-b17b-4d4a296d0856"
      },
      "source": [
        "mal_count = S * 10 // 100\n",
        "_, total_average_without_revoked = run(mal_count, [], 0)\n",
        "_, total_average_with_revoked = run(mal_count, [], 5)\n",
        "\n",
        "indexes = np.arange(1, ITERATIONS_COUNT + 1);\n",
        "plt.clf()\n",
        "plt.plot(indexes, total_average_without_revoked, label=f'Average trust with 0 revoked', c='blue')\n",
        "plt.plot(indexes, total_average_with_revoked, label=f'Average trust with 5 revoked', c='green')\n",
        "\n",
        "plt.xlabel('Rounds', fontsize=12)\n",
        "plt.ylabel(\"Average trust\", fontsize=12)\n",
        "plt.suptitle(f'PE: {PE} - Repair round: {REPAIR_ITERATION} - Revoked count: {REVOKED_NODES_COUNT} - Repair count: {REPAIRED_NODES_COUNT}')\n",
        "plt.legend()\n",
        "plt.grid()"
      ],
      "execution_count": null,
      "outputs": [
        {
          "data": {
            "image/png": "[encoded data removed]",
            "text/plain": [
              "<Figure size 432x288 with 1 Axes>"
            ]
          },
          "metadata": {},
          "output_type": "display_data"
        }
      ]
    },
    {
      "cell_type": "code",
      "metadata": {
        "colab": {
          "background_save": true
        },
        "id": "lqknxnZZKeZ6"
      },
      "source": [
        "import cv2\n",
        "from pathlib import Path\n",
        "\n",
        "if GENERATE_PLOT_PNG:\n",
        "  image_folder = PLOT_PNG_FOLDER\n",
        "  video_name = 'repair.avi'\n",
        "  video_path = os.path.join(Path(image_folder).parent, video_name)\n",
        "\n",
        "  images = [\n",
        "    img for img in os.listdir(image_folder) if img.endswith(\".png\")\n",
        "    ]\n",
        "  images.sort(key=lambda x: int(x[:-4]))\n",
        "  frame = cv2.imread(os.path.join(image_folder, images[0]))\n",
        "  height, width, layers = frame.shape\n",
        "\n",
        "  video = cv2.VideoWriter(video_path, 0, 1, (width,height))\n",
        "\n",
        "  for image in images:\n",
        "      video.write(cv2.imread(os.path.join(image_folder, image)))\n",
        "\n",
        "  cv2.destroyAllWindows()\n",
        "  video.release()"
      ],
      "execution_count": null,
      "outputs": []
    },
    {
      "cell_type": "code",
      "metadata": {
        "colab": {
          "base_uri": "https://localhost:8080/",
          "height": 363
        },
        "id": "e0QD0vFXFkW2",
        "outputId": "d4577caf-c47a-4bca-ed45-5d4ae62b7663"
      },
      "source": [
        "import seaborn as sb # visualization \n",
        "# 3. Distribution plot\n",
        "\n",
        "sb.distplot(data_frame['utility'], color = 'b', label = 'Utility')\n",
        "plt.title('Utility Distribution', fontsize = 16)\n",
        "plt.xlabel('Utility ', fontsize = 14)\n",
        "plt.ylabel('Number of nodes', fontsize = 14)\n",
        "plt.xticks(fontsize = 1)\n",
        "plt.yticks(fontsize = 12)\n",
        "plt.legend()"
      ],
      "execution_count": null,
      "outputs": [
        {
          "name": "stderr",
          "output_type": "stream",
          "text": [
            "/usr/local/lib/python3.7/dist-packages/seaborn/distributions.py:2619: FutureWarning: `distplot` is a deprecated function and will be removed in a future version. Please adapt your code to use either `displot` (a figure-level function with similar flexibility) or `histplot` (an axes-level function for histograms).\n",
            "  warnings.warn(msg, FutureWarning)\n"
          ]
        },
        {
          "data": {
            "text/plain": [
              "<matplotlib.legend.Legend at 0x7f9bca21e7d0>"
            ]
          },
          "execution_count": 14,
          "metadata": {},
          "output_type": "execute_result"
        },
        {
          "data": {
            "image/png": "[encoded data removed]",
            "text/plain": [
              "<Figure size 432x288 with 1 Axes>"
            ]
          },
          "metadata": {},
          "output_type": "display_data"
        }
      ]
    }
  ]
}