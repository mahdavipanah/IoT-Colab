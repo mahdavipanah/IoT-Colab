{
  "nbformat": 4,
  "nbformat_minor": 0,
  "metadata": {
    "colab": {
      "name": "IoT Colab",
      "provenance": [],
      "collapsed_sections": [],
      "include_colab_link": true
    },
    "kernelspec": {
      "display_name": "Python 3",
      "name": "python3"
    },
    "language_info": {
      "name": "python"
    },
    "accelerator": "GPU"
  },
  "cells": [
    {
      "cell_type": "markdown",
      "metadata": {
        "id": "view-in-github",
        "colab_type": "text"
      },
      "source": [
        "<a href=\"https://colab.research.google.com/github/mahdavipanah/IoT-Colab/blob/main/IoT_Colab.ipynb\" target=\"_parent\"><img src=\"https://colab.research.google.com/assets/colab-badge.svg\" alt=\"Open In Colab\"/></a>"
      ]
    },
    {
      "cell_type": "markdown",
      "metadata": {
        "id": "V09S0a92S2Zj"
      },
      "source": [
        "Link to the paper https://www.sciencedirect.com/science/article/pii/S0959652621016267"
      ]
    },
    {
      "cell_type": "code",
      "metadata": {
        "colab": {
          "base_uri": "https://localhost:8080/"
        },
        "id": "TRr-apYva0Mc",
        "outputId": "78a09cc3-a3c4-49ff-e13e-de30569c80c0"
      },
      "source": [
        "from google.colab import drive\n",
        "drive.mount('/content/drive')"
      ],
      "execution_count": null,
      "outputs": [
        {
          "output_type": "stream",
          "name": "stdout",
          "text": [
            "Drive already mounted at /content/drive; to attempt to forcibly remount, call drive.mount(\"/content/drive\", force_remount=True).\n"
          ]
        }
      ]
    },
    {
      "cell_type": "code",
      "metadata": {
        "id": "lu4lx3-qlRb0",
        "colab": {
          "base_uri": "https://localhost:8080/"
        },
        "outputId": "ad849143-a009-4028-aed6-4819b6800dea"
      },
      "source": [
        "pip install dataframe-image"
      ],
      "execution_count": null,
      "outputs": [
        {
          "output_type": "stream",
          "name": "stdout",
          "text": [
            "Requirement already satisfied: dataframe-image in /usr/local/lib/python3.7/dist-packages (0.1.1)\n",
            "Requirement already satisfied: beautifulsoup4 in /usr/local/lib/python3.7/dist-packages (from dataframe-image) (4.6.3)\n",
            "Requirement already satisfied: matplotlib>=3.1 in /usr/local/lib/python3.7/dist-packages (from dataframe-image) (3.2.2)\n",
            "Requirement already satisfied: aiohttp in /usr/local/lib/python3.7/dist-packages (from dataframe-image) (3.8.0)\n",
            "Requirement already satisfied: requests in /usr/local/lib/python3.7/dist-packages (from dataframe-image) (2.23.0)\n",
            "Requirement already satisfied: pandas>=0.24 in /usr/local/lib/python3.7/dist-packages (from dataframe-image) (1.1.5)\n",
            "Requirement already satisfied: nbconvert>=5 in /usr/local/lib/python3.7/dist-packages (from dataframe-image) (5.6.1)\n",
            "Requirement already satisfied: pyparsing!=2.0.4,!=2.1.2,!=2.1.6,>=2.0.1 in /usr/local/lib/python3.7/dist-packages (from matplotlib>=3.1->dataframe-image) (2.4.7)\n",
            "Requirement already satisfied: kiwisolver>=1.0.1 in /usr/local/lib/python3.7/dist-packages (from matplotlib>=3.1->dataframe-image) (1.3.2)\n",
            "Requirement already satisfied: python-dateutil>=2.1 in /usr/local/lib/python3.7/dist-packages (from matplotlib>=3.1->dataframe-image) (2.8.2)\n",
            "Requirement already satisfied: cycler>=0.10 in /usr/local/lib/python3.7/dist-packages (from matplotlib>=3.1->dataframe-image) (0.10.0)\n",
            "Requirement already satisfied: numpy>=1.11 in /usr/local/lib/python3.7/dist-packages (from matplotlib>=3.1->dataframe-image) (1.19.5)\n",
            "Requirement already satisfied: six in /usr/local/lib/python3.7/dist-packages (from cycler>=0.10->matplotlib>=3.1->dataframe-image) (1.15.0)\n",
            "Requirement already satisfied: jupyter-core in /usr/local/lib/python3.7/dist-packages (from nbconvert>=5->dataframe-image) (4.8.1)\n",
            "Requirement already satisfied: pygments in /usr/local/lib/python3.7/dist-packages (from nbconvert>=5->dataframe-image) (2.6.1)\n",
            "Requirement already satisfied: entrypoints>=0.2.2 in /usr/local/lib/python3.7/dist-packages (from nbconvert>=5->dataframe-image) (0.3)\n",
            "Requirement already satisfied: bleach in /usr/local/lib/python3.7/dist-packages (from nbconvert>=5->dataframe-image) (4.1.0)\n",
            "Requirement already satisfied: jinja2>=2.4 in /usr/local/lib/python3.7/dist-packages (from nbconvert>=5->dataframe-image) (2.11.3)\n",
            "Requirement already satisfied: traitlets>=4.2 in /usr/local/lib/python3.7/dist-packages (from nbconvert>=5->dataframe-image) (5.1.0)\n",
            "Requirement already satisfied: nbformat>=4.4 in /usr/local/lib/python3.7/dist-packages (from nbconvert>=5->dataframe-image) (5.1.3)\n",
            "Requirement already satisfied: testpath in /usr/local/lib/python3.7/dist-packages (from nbconvert>=5->dataframe-image) (0.5.0)\n",
            "Requirement already satisfied: defusedxml in /usr/local/lib/python3.7/dist-packages (from nbconvert>=5->dataframe-image) (0.7.1)\n",
            "Requirement already satisfied: pandocfilters>=1.4.1 in /usr/local/lib/python3.7/dist-packages (from nbconvert>=5->dataframe-image) (1.5.0)\n",
            "Requirement already satisfied: mistune<2,>=0.8.1 in /usr/local/lib/python3.7/dist-packages (from nbconvert>=5->dataframe-image) (0.8.4)\n",
            "Requirement already satisfied: MarkupSafe>=0.23 in /usr/local/lib/python3.7/dist-packages (from jinja2>=2.4->nbconvert>=5->dataframe-image) (2.0.1)\n",
            "Requirement already satisfied: jsonschema!=2.5.0,>=2.4 in /usr/local/lib/python3.7/dist-packages (from nbformat>=4.4->nbconvert>=5->dataframe-image) (2.6.0)\n",
            "Requirement already satisfied: ipython-genutils in /usr/local/lib/python3.7/dist-packages (from nbformat>=4.4->nbconvert>=5->dataframe-image) (0.2.0)\n",
            "Requirement already satisfied: pytz>=2017.2 in /usr/local/lib/python3.7/dist-packages (from pandas>=0.24->dataframe-image) (2018.9)\n",
            "Requirement already satisfied: async-timeout<5.0,>=4.0.0a3 in /usr/local/lib/python3.7/dist-packages (from aiohttp->dataframe-image) (4.0.0)\n",
            "Requirement already satisfied: asynctest==0.13.0 in /usr/local/lib/python3.7/dist-packages (from aiohttp->dataframe-image) (0.13.0)\n",
            "Requirement already satisfied: charset-normalizer<3.0,>=2.0 in /usr/local/lib/python3.7/dist-packages (from aiohttp->dataframe-image) (2.0.7)\n",
            "Requirement already satisfied: frozenlist>=1.1.1 in /usr/local/lib/python3.7/dist-packages (from aiohttp->dataframe-image) (1.2.0)\n",
            "Requirement already satisfied: typing-extensions>=3.7.4 in /usr/local/lib/python3.7/dist-packages (from aiohttp->dataframe-image) (3.7.4.3)\n",
            "Requirement already satisfied: aiosignal>=1.1.2 in /usr/local/lib/python3.7/dist-packages (from aiohttp->dataframe-image) (1.2.0)\n",
            "Requirement already satisfied: attrs>=17.3.0 in /usr/local/lib/python3.7/dist-packages (from aiohttp->dataframe-image) (21.2.0)\n",
            "Requirement already satisfied: yarl<2.0,>=1.0 in /usr/local/lib/python3.7/dist-packages (from aiohttp->dataframe-image) (1.7.2)\n",
            "Requirement already satisfied: multidict<7.0,>=4.5 in /usr/local/lib/python3.7/dist-packages (from aiohttp->dataframe-image) (5.2.0)\n",
            "Requirement already satisfied: idna>=2.0 in /usr/local/lib/python3.7/dist-packages (from yarl<2.0,>=1.0->aiohttp->dataframe-image) (2.10)\n",
            "Requirement already satisfied: webencodings in /usr/local/lib/python3.7/dist-packages (from bleach->nbconvert>=5->dataframe-image) (0.5.1)\n",
            "Requirement already satisfied: packaging in /usr/local/lib/python3.7/dist-packages (from bleach->nbconvert>=5->dataframe-image) (21.0)\n",
            "Requirement already satisfied: urllib3!=1.25.0,!=1.25.1,<1.26,>=1.21.1 in /usr/local/lib/python3.7/dist-packages (from requests->dataframe-image) (1.24.3)\n",
            "Requirement already satisfied: chardet<4,>=3.0.2 in /usr/local/lib/python3.7/dist-packages (from requests->dataframe-image) (3.0.4)\n",
            "Requirement already satisfied: certifi>=2017.4.17 in /usr/local/lib/python3.7/dist-packages (from requests->dataframe-image) (2021.5.30)\n"
          ]
        }
      ]
    },
    {
      "cell_type": "code",
      "metadata": {
        "id": "jlr0K_ua_FuO",
        "colab": {
          "base_uri": "https://localhost:8080/"
        },
        "outputId": "26064640-fb2d-4ac2-94fa-566d334c5180"
      },
      "source": [
        "import numpy as np\n",
        "from matplotlib import pyplot as plt\n",
        "import matplotlib.image as mpimg\n",
        "import pandas as pd\n",
        "import dataframe_image as dfi\n",
        "import imageio\n",
        "from pathlib import Path\n",
        "\n",
        "%load_ext google.colab.data_table\n",
        "\n",
        "from google.colab import data_table\n",
        "data_table._DEFAULT_FORMATTERS[float] = lambda x: f\"{x:.4f}\""
      ],
      "execution_count": null,
      "outputs": [
        {
          "output_type": "stream",
          "name": "stdout",
          "text": [
            "The google.colab.data_table extension is already loaded. To reload it, use:\n",
            "  %reload_ext google.colab.data_table\n"
          ]
        }
      ]
    },
    {
      "cell_type": "code",
      "metadata": {
        "id": "Fr1Ki5tOkmTZ"
      },
      "source": [
        "#@title #Parameters\n",
        "\n",
        "#@markdown Prior knowledge for the probability of the event occurrence:\n",
        "PE = 0.7#@param {type:\"number\"}\n",
        "\n",
        "#@markdown Selection ratio in the list of nodes\n",
        "S = 100#@param {type:\"integer\"}\n",
        "K = 10#@param {type:\"integer\"}\n",
        "\n",
        "#@markdown Number of trusted nodes:\n",
        "TRUSTED_NODES_COUNT = 90#@param {type:\"integer\"}\n",
        "\n",
        "#@markdown Trusted nodes probability range (inclusive):\n",
        "P_START = 0.6#@param {type:\"number\"}\n",
        "P_END = 0.8#@param {type:\"number\"}\n",
        "\n",
        "#@markdown Malicious nodes probability range (inclusive)\n",
        "MALICIOUS_P_START = 0.3#@param {type:\"number\"}\n",
        "MALICIOUS_P_END = 0.39#@param {type:\"number\"}\n",
        "\n",
        "#@markdown Security level for calculating ideal value for Nash EQ:\n",
        "S_STAR_DELTA = 2#@param {type:\"number\"}\n",
        "\n",
        "#@markdown Default trust value:\n",
        "DEFAULT_TRUST = 0.5#@param {type:\"number\"}\n",
        "\n",
        "#@markdown Punishment and reward for trust of nodes based on Nash EQ:\n",
        "TRUST_PUNISH_VALUE = 0.01#@param {type:\"number\"}\n",
        "\n",
        "#@markdown Maximum and minimum for trust values:\n",
        "TRUST_MAX = 0.9#@param {type:\"number\"}\n",
        "TRUST_MIN = 0.1#@param {type:\"number\"}\n",
        "\n",
        "#@markdown Number of iterations:\n",
        "ITERATIONS_COUNT = 50#@param {type:\"integer\"}\n",
        "\n",
        "#@markdown Indicates weather the code must generate plot image files or not:\n",
        "GENERATE_PLOT_PNG = True #@param {type:\"boolean\"}\n",
        "\n",
        "#@markdown Folder for saving plog pngs (old png files will be removed):\n",
        "PLOT_PNG_FOLDER = \"/content/drive/MyDrive/Iot project /plot_png\" #@param {type:\"string\"}\n",
        "\n",
        "#@markdown Trust upper and lower bound for plots:\n",
        "UPPER_BOUND = 0.8#@param {type:\"number\"}\n",
        "LOWER_BOUND = 0.3#@param {type:\"number\"}\n",
        "\n",
        "plt.figure(figsize=(20, 5))\n",
        "\n",
        "rng = np.random.default_rng()\n",
        "\n",
        "malicious_indices = rng.choice(S, size=S - TRUSTED_NODES_COUNT, replace=False)\n",
        "trusted_indices = np.delete(np.arange(S), malicious_indices)\n",
        "\n",
        "data_frame = pd.DataFrame()\n",
        "\n",
        "if GENERATE_PLOT_PNG:\n",
        "  # remove old pngs plots\n",
        "  [f.unlink() for f in Path(PLOT_PNG_FOLDER).glob(\"*.png\") if f.is_file()]\n",
        "\n",
        "plot_list = np.array([])\n",
        "\n",
        "for iter in np.arange(ITERATIONS_COUNT):\n",
        "  # trusted nodes\n",
        "  trusted_nodes = rng.uniform(\n",
        "    P_START,\n",
        "    P_END,\n",
        "    TRUSTED_NODES_COUNT\n",
        "  )\n",
        "  # malicious nodes \n",
        "  malicious_nodes = rng.uniform(\n",
        "    MALICIOUS_P_START,\n",
        "    MALICIOUS_P_END,\n",
        "    S - TRUSTED_NODES_COUNT,\n",
        "  )\n",
        "\n",
        "  nodes = np.array([])\n",
        "  for i in np.arange(S):\n",
        "    elem = None\n",
        "\n",
        "    if np.any(np.isin(malicious_indices, i)):\n",
        "      elem, malicious_nodes = malicious_nodes[0], np.delete(malicious_nodes, 0)\n",
        "    else:\n",
        "      elem, trusted_nodes = trusted_nodes[0], np.delete(trusted_nodes, 0)\n",
        "\n",
        "    nodes = np.append(nodes, elem)\n",
        "\n",
        "  data_frame['probability'] = nodes\n",
        "\n",
        "  if iter == 0:\n",
        "    data_frame['trust'] = DEFAULT_TRUST\n",
        "\n",
        "  for n in np.arange(S//K):\n",
        "    # indecies of the n-th E-Sensor\n",
        "    sensor_indices = np.arange(n * K, n * K + K)\n",
        "    \n",
        "    for i in sensor_indices:\n",
        "      i_prob = data_frame.at[i, 'probability']\n",
        "\n",
        "      # indices of other nodes of the sensor\n",
        "      others_indices = np.delete(\n",
        "        sensor_indices,\n",
        "        np.where(sensor_indices == i)\n",
        "      )\n",
        "\n",
        "      # average of other nodes of the sensor\n",
        "      others_average = np.mean(\n",
        "          data_frame.loc[others_indices, 'probability'].values\n",
        "      )\n",
        "      data_frame.at[i, 'average'] = others_average\n",
        "\n",
        "      # cost1\n",
        "      i_cost1 = (i_prob - others_average) ** 2\n",
        "      data_frame.at[i, 'cost1'] = i_cost1\n",
        "      \n",
        "      # cost2 calculations\n",
        "      consistant_t = 1\n",
        "      non_consistent_t = 1\n",
        "      \n",
        "      for j in others_indices:\n",
        "        j_prob = data_frame.at[j, 'probability']\n",
        "        j_trust = data_frame.at[j, 'trust']\n",
        "\n",
        "        condition = (j_prob - 0.5) * (PE - 0.5)\n",
        "        \n",
        "        if condition < 0:\n",
        "          consistant_t *= j_trust\n",
        "        else:\n",
        "          non_consistent_t *= j_trust\n",
        "      \n",
        "      pi_et = ((PE * consistant_t) /\n",
        "              (PE * consistant_t + (1 - PE) * non_consistent_t))\n",
        "\n",
        "      i_cost2 = (i_prob - pi_et) ** 2\n",
        "      data_frame.at[i, 'cost2'] = i_cost2\n",
        "\n",
        "      # utility\n",
        "      data_frame.at[i, 'utility'] = i_cost1 + i_cost2\n",
        "\n",
        "      i_s_star = (others_average + pi_et) / 2\n",
        "      data_frame.at[i, 's*'] = i_s_star\n",
        "\n",
        "    s_star_average = np.mean (\n",
        "        data_frame.loc[sensor_indices, 's*'].values\n",
        "    )\n",
        "    \n",
        "    s_star_change = (1 / S_STAR_DELTA) * s_star_average\n",
        "\n",
        "    # generate plot image files\n",
        "    if GENERATE_PLOT_PNG:\n",
        "      plt.clf()\n",
        "      plt.scatter(\n",
        "          trusted_indices,\n",
        "          data_frame.loc[trusted_indices, 'trust'].values,\n",
        "          color=\"blue\",\n",
        "          label= 'Trusted nodes',\n",
        "      )\n",
        "      plt.scatter(\n",
        "          malicious_indices,\n",
        "          data_frame.loc[malicious_indices, 'trust'].values,\n",
        "          color=\"red\",\n",
        "          label= 'Malicious nodes',\n",
        "      )\n",
        "      plt.ylim(0, 1)\n",
        "      plt.xlim(0, S - 1)\n",
        "      plt.xlabel('Node ID', fontsize=18)\n",
        "      plt.ylabel(\"Node's trust\", fontsize=18)\n",
        "      plt.axhline(UPPER_BOUND, color=\"green\", label=\"Upper bound\")\n",
        "      plt.axhline(LOWER_BOUND, color=\"orange\", label=\"Lower bound\")\n",
        "      plt.grid()\n",
        "      png_filename = PLOT_PNG_FOLDER + str(iter) + '.png' \n",
        "      plt.legend()\n",
        "      plt.savefig(png_filename)\n",
        "      plot_list = np.append(plot_list, png_filename)\n",
        "\n",
        "    for i in sensor_indices:\n",
        "      i_prob = data_frame.at[i, 'probability']\n",
        "      i_trust = data_frame.at[i, 'trust']\n",
        "\n",
        "      if (i_prob <= s_star_average + s_star_change\n",
        "          and i_prob >= s_star_average - s_star_change):\n",
        "        \n",
        "          i_new_trust = i_trust + TRUST_PUNISH_VALUE\n",
        "          if (i_new_trust > TRUST_MAX):\n",
        "            i_new_trust = TRUST_MAX\n",
        "      else:\n",
        "        # or this can be: i_new_trust = i_trust - TRUST_PUNISH_VALUE\n",
        "        i_new_trust = i_trust / 2\n",
        "        if (i_new_trust < TRUST_MIN):\n",
        "            i_new_trust = TRUST_MIN\n",
        "      \n",
        "      data_frame.at[i, 'trust'] = i_new_trust\n",
        "\n",
        "data_frame"
      ],
      "execution_count": null,
      "outputs": []
    },
    {
      "cell_type": "code",
      "metadata": {
        "id": "lqknxnZZKeZ6"
      },
      "source": [
        "import cv2\n",
        "import os\n",
        "\n",
        "if GENERATE_PLOT_PNG:\n",
        "  image_folder = PLOT_PNG_FOLDER\n",
        "  video_name = 'video.avi'\n",
        "\n",
        "  images = [\n",
        "    img for img in os.listdir(image_folder) if img.endswith(\".png\")\n",
        "    ]\n",
        "  images.sort(key=lambda x: int(x[:-4]))\n",
        "  frame = cv2.imread(os.path.join(image_folder, images[0]))\n",
        "  height, width, layers = frame.shape\n",
        "\n",
        "  video = cv2.VideoWriter(video_name, 0, 1, (width,height))\n",
        "\n",
        "  for image in images:\n",
        "      video.write(cv2.imread(os.path.join(image_folder, image)))\n",
        "\n",
        "  cv2.destroyAllWindows()\n",
        "  video.release()"
      ],
      "execution_count": null,
      "outputs": []
    }
  ]
}